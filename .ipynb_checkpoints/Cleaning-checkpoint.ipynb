{
 "cells": [
  {
   "cell_type": "code",
   "execution_count": 1,
   "id": "9b6670af-33f9-418e-958e-063ef2a278a1",
   "metadata": {},
   "outputs": [],
   "source": [
    "import pandas as pd\n",
    "import numpy as np\n",
    "from faker import Faker\n"
   ]
  },
  {
   "cell_type": "code",
   "execution_count": 2,
   "id": "2353a00d-46f9-4f75-ba58-f19244fb9337",
   "metadata": {},
   "outputs": [],
   "source": [
    "# Load your existing operational data if not loaded\n",
    "data = pd.read_csv('simulated_operations.csv')\n",
    "\n",
    "# Assume or simulate a link between operations and employees\n",
    "data['EmployeeID'] = np.random.choice(employees['EmployeeID'], size=len(data))\n"
   ]
  },
  {
   "cell_type": "code",
   "execution_count": 3,
   "id": "4fcd12ea-1614-4a3c-844a-87a956918a50",
   "metadata": {},
   "outputs": [],
   "source": [
    "# Merge the datasets on 'EmployeeID'\n",
    "full_data = pd.merge(data, employees, on='EmployeeID', how='left')\n"
   ]
  },
  {
   "cell_type": "code",
   "execution_count": 4,
   "id": "1244e9c1-f8c7-4176-88d0-21fc1c35b85f",
   "metadata": {},
   "outputs": [],
   "source": [
    "# Convert date fields to datetime if necessary\n",
    "full_data['Production Date'] = pd.to_datetime(full_data['Production Date'])\n",
    "full_data['Hire Date'] = pd.to_datetime(full_data['Hire Date'])\n",
    "\n",
    "# Check for missing values and fill or drop them\n",
    "full_data.fillna({\n",
    "    'Operational Costs': full_data['Operational Costs'].mean(),\n",
    "    'Equipment Downtime': full_data['Equipment Downtime'].median()\n",
    "}, inplace=True)\n",
    "\n",
    "# Remove any duplicates\n",
    "full_data.drop_duplicates(inplace=True)\n",
    "\n",
    "# Optional: Drop irrelevant columns if necessary\n",
    "# full_data.drop(['SomeIrrelevantColumn'], axis=1, inplace=True)\n"
   ]
  },
  {
   "cell_type": "code",
   "execution_count": 5,
   "id": "0ae22af2-b643-431a-a7ca-0d9bfdc939bf",
   "metadata": {},
   "outputs": [],
   "source": [
    "full_data.to_csv('cleaned_merged_data.csv', index=False)\n"
   ]
  },
  {
   "cell_type": "code",
   "execution_count": null,
   "id": "f1cce7f1-e55e-4ce2-b08c-0e00bbc76d9f",
   "metadata": {},
   "outputs": [],
   "source": []
  },
  {
   "cell_type": "code",
   "execution_count": null,
   "id": "661b518b-6811-4b15-aa6c-556663b4468e",
   "metadata": {},
   "outputs": [],
   "source": []
  },
  {
   "cell_type": "code",
   "execution_count": null,
   "id": "964e0bbd-bda1-40e3-af92-2cdeaebd8c70",
   "metadata": {},
   "outputs": [],
   "source": []
  },
  {
   "cell_type": "code",
   "execution_count": null,
   "id": "f1723a7a-b7b2-420d-b83c-5699a2c5f455",
   "metadata": {},
   "outputs": [],
   "source": []
  }
 ],
 "metadata": {
  "kernelspec": {
   "display_name": "Python 3 (ipykernel)",
   "language": "python",
   "name": "python3"
  },
  "language_info": {
   "codemirror_mode": {
    "name": "ipython",
    "version": 3
   },
   "file_extension": ".py",
   "mimetype": "text/x-python",
   "name": "python",
   "nbconvert_exporter": "python",
   "pygments_lexer": "ipython3",
   "version": "3.11.4"
  }
 },
 "nbformat": 4,
 "nbformat_minor": 5
}
