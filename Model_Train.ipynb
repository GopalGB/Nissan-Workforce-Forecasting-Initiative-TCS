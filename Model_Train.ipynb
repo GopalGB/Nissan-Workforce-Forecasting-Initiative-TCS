{
 "cells": [
  {
   "cell_type": "code",
   "execution_count": 3,
   "id": "a29c2698-868f-4ee7-852e-b218527fc2ec",
   "metadata": {},
   "outputs": [],
   "source": [
    "import pandas as pd\n",
    "from sklearn.model_selection import train_test_split\n",
    "from sklearn.ensemble import RandomForestRegressor\n",
    "import numpy as np\n",
    "import pickle\n",
    "\n",
    "# Load the cleaned and merged data\n",
    "data = pd.read_csv('cleaned_merged_data.csv')\n",
    "\n",
    "# Feature selection - Assume 'Operational Costs' as the target variable\n",
    "X = data.drop(['Operational Costs', 'Production Date', 'EmployeeID', 'Hire Date'], axis=1)\n",
    "y = data['Operational Costs']\n",
    "\n",
    "# Convert categorical data to dummy variables\n",
    "X = pd.get_dummies(X)\n",
    "\n",
    "# Splitting the data into training and testing sets\n",
    "X_train, X_test, y_train, y_test = train_test_split(X, y, test_size=0.3, random_state=42)\n",
    "\n",
    "# Training the model\n",
    "model = RandomForestRegressor(n_estimators=100, random_state=42)\n",
    "model.fit(X_train, y_train)\n",
    "\n",
    "# Saving the trained model to a file\n",
    "with open('trained_model.pkl', 'wb') as file:\n",
    "    pickle.dump(model, file)\n"
   ]
  },
  {
   "cell_type": "code",
   "execution_count": null,
   "id": "ddcb730e-1bf0-49ef-9f5d-6ebc0f4f5fed",
   "metadata": {},
   "outputs": [],
   "source": []
  }
 ],
 "metadata": {
  "kernelspec": {
   "display_name": "Python 3 (ipykernel)",
   "language": "python",
   "name": "python3"
  },
  "language_info": {
   "codemirror_mode": {
    "name": "ipython",
    "version": 3
   },
   "file_extension": ".py",
   "mimetype": "text/x-python",
   "name": "python",
   "nbconvert_exporter": "python",
   "pygments_lexer": "ipython3",
   "version": "3.11.4"
  }
 },
 "nbformat": 4,
 "nbformat_minor": 5
}
